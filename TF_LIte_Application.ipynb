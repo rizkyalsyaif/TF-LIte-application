{
  "nbformat": 4,
  "nbformat_minor": 0,
  "metadata": {
    "colab": {
      "provenance": []
    },
    "kernelspec": {
      "name": "python3",
      "display_name": "Python 3"
    },
    "accelerator": "GPU",
    "gpuClass": "standard"
  },
  "cells": [
    {
      "cell_type": "code",
      "source": [
        "# Nama     : Rizky Syaiful Fattah\n",
        "# username : rizkyalsyaif\n",
        "# Noreg    : 1494037162101-2390\n",
        "# email    : rysfattah@gmail.com\n",
        "# Submission kelas pembelajaran machine learning\n",
        "# Aplikasi CNN untuk klasifikasi gambar game rock paper scissors"
      ],
      "metadata": {
        "id": "do7X66etyaPI"
      },
      "execution_count": null,
      "outputs": []
    },
    {
      "cell_type": "markdown",
      "source": [
        "Import library yang diperlukan"
      ],
      "metadata": {
        "id": "0U0xKgX9yW5p"
      }
    },
    {
      "cell_type": "code",
      "metadata": {
        "id": "AATzcBWpGuyG"
      },
      "source": [
        "# tensorflow\n",
        "import tensorflow as tf\n",
        "\n",
        "# library unzipping file\n",
        "import zipfile,os\n",
        "\n",
        "# library image data generator \n",
        "from tensorflow.keras.preprocessing.image import ImageDataGenerator\n",
        "\n",
        "# library untuk data visualisation and manipulation\n",
        "import numpy as np\n",
        "import pandas as pd\n",
        "import matplotlib.pyplot as plt\n",
        "import seaborn as sns\n",
        "\n",
        "# library untuk implementasi callbacks pada model\n",
        "from keras.callbacks import EarlyStopping, ModelCheckpoint\n",
        "\n",
        "# library upload foto untuk testing model\n",
        "from google.colab import files\n",
        "from tensorflow.keras.preprocessing import image\n",
        "import matplotlib.image as mpimg\n",
        "from keras.models import load_model\n",
        "%matplotlib inline\n",
        "\n",
        "# library confussion matrix\n",
        "from sklearn.metrics import classification_report, confusion_matrix"
      ],
      "execution_count": null,
      "outputs": []
    },
    {
      "cell_type": "markdown",
      "source": [
        "Dataset gambar"
      ],
      "metadata": {
        "id": "ZhEmdo2-0eyh"
      }
    },
    {
      "cell_type": "code",
      "source": [
        "!mkdir -p ~/.kaggle\n",
        "!cp kaggle.json ~/.kaggle/\n",
        "!chmod 600 /root/.kaggle/kaggle.json"
      ],
      "metadata": {
        "id": "VV2aatuYy39I"
      },
      "execution_count": null,
      "outputs": []
    },
    {
      "cell_type": "code",
      "source": [
        "!kaggle datasets download -d alxmamaev/flowers-recognition"
      ],
      "metadata": {
        "colab": {
          "base_uri": "https://localhost:8080/"
        },
        "id": "n3EuQcCAycr_",
        "outputId": "49687794-1ead-404e-b5e6-14353a072ede"
      },
      "execution_count": null,
      "outputs": [
        {
          "output_type": "stream",
          "name": "stdout",
          "text": [
            "Downloading flowers-recognition.zip to /content\n",
            "100% 224M/225M [00:11<00:00, 22.9MB/s]\n",
            "100% 225M/225M [00:11<00:00, 19.9MB/s]\n"
          ]
        }
      ]
    },
    {
      "cell_type": "code",
      "metadata": {
        "id": "RTBu2oJfHIbH"
      },
      "source": [
        "# melakukan ekstraksi pada file zip\n",
        "local_zip = '/content/flowers-recognition.zip'\n",
        "zip_ref = zipfile.ZipFile(local_zip, 'r')\n",
        "zip_ref.extractall('/tmp')\n",
        "zip_ref.close()\n",
        "\n",
        "# base_dir = '/tmp/rockpaperscissors/rps-cv-images'\n",
        "# train_dir = base_dir\n",
        "# val_dir = base_dir"
      ],
      "execution_count": null,
      "outputs": []
    },
    {
      "cell_type": "code",
      "source": [
        "os.listdir('/tmp/flowers')"
      ],
      "metadata": {
        "colab": {
          "base_uri": "https://localhost:8080/"
        },
        "id": "0hIJomtK1CFr",
        "outputId": "d51a794e-f5c3-4379-a6d3-25d5bd3f1f27"
      },
      "execution_count": null,
      "outputs": [
        {
          "output_type": "execute_result",
          "data": {
            "text/plain": [
              "['sunflower', 'rose', 'dandelion', 'tulip', 'daisy']"
            ]
          },
          "metadata": {},
          "execution_count": 9
        }
      ]
    },
    {
      "cell_type": "code",
      "source": [
        "base_dir = '/tmp/flowers'\n",
        "train_dir = base_dir\n",
        "val_dir = base_dir"
      ],
      "metadata": {
        "id": "TtNfJdIC1ry7"
      },
      "execution_count": null,
      "outputs": []
    },
    {
      "cell_type": "markdown",
      "source": [
        "Augmentasi gambar"
      ],
      "metadata": {
        "id": "GudYn8Nx04UT"
      }
    },
    {
      "cell_type": "code",
      "metadata": {
        "id": "6-lp90PCHQRZ"
      },
      "source": [
        "train_datagen = ImageDataGenerator(\n",
        "                    rescale=1./255, # convert the pixels in range [0,255] to range [0,1]\n",
        "                    rotation_range=20,  # randomly rotate images in the range (degrees, 0 to 180)\n",
        "                    horizontal_flip=True, # randomly flip images\n",
        "                    shear_range = 0.2, # Shear angle in counter-clockwise direction in degrees\n",
        "                    fill_mode = 'nearest', # Points outside the boundaries of the input\n",
        "                    validation_split = 0.2)  #split data 20% for validation"
      ],
      "execution_count": null,
      "outputs": []
    },
    {
      "cell_type": "markdown",
      "source": [
        "aplikasi image data generator dengan data split 20% untuk data validasi"
      ],
      "metadata": {
        "id": "JjQU62VZ07w2"
      }
    },
    {
      "cell_type": "code",
      "metadata": {
        "id": "5jZFBH10HSI_",
        "colab": {
          "base_uri": "https://localhost:8080/"
        },
        "outputId": "d2426fe2-6c05-4df5-8491-e8fc2b22eb98"
      },
      "source": [
        "train_generator = train_datagen.flow_from_directory(\n",
        "        train_dir,  # direktori data latih\n",
        "        target_size=(150, 150),  # mengubah resolusi seluruh gambar menjadi 150x150 piksel\n",
        "        batch_size=32,\n",
        "        subset='training',\n",
        "        # karena ini merupakan masalah klasifikasi 6 kelas maka menggunakan class_mode = 'categorical'\n",
        "        class_mode='categorical')\n",
        "\n",
        "validation_generator = train_datagen.flow_from_directory(\n",
        "        val_dir, # direktori data validasi\n",
        "        target_size=(150, 150), # mengubah resolusi seluruh gambar menjadi 150x150 piksel\n",
        "        batch_size=32,\n",
        "        subset='validation', \n",
        "        # karena ini merupakan masalah klasifikasi 6 kelas maka menggunakan class_mode = 'categorical'\n",
        "        class_mode='categorical')"
      ],
      "execution_count": null,
      "outputs": [
        {
          "output_type": "stream",
          "name": "stdout",
          "text": [
            "Found 3457 images belonging to 5 classes.\n",
            "Found 860 images belonging to 5 classes.\n"
          ]
        }
      ]
    },
    {
      "cell_type": "markdown",
      "source": [
        "Developing model yang akan digunakan dengan 4 layer CNN"
      ],
      "metadata": {
        "id": "l19xCD7N1e_F"
      }
    },
    {
      "cell_type": "code",
      "metadata": {
        "id": "tJ_KwTQJHT-U"
      },
      "source": [
        "model = tf.keras.models.Sequential([\n",
        "    tf.keras.layers.Conv2D(16, (3,3), activation='relu', input_shape=(150, 150, 3)),\n",
        "    tf.keras.layers.MaxPooling2D(2, 2),\n",
        "    tf.keras.layers.Conv2D(32, (3,3), activation='relu'),\n",
        "    tf.keras.layers.MaxPooling2D(2,2),\n",
        "    tf.keras.layers.Conv2D(64, (3,3), activation='relu'),\n",
        "    tf.keras.layers.MaxPooling2D(2,2),\n",
        "    tf.keras.layers.Conv2D(128, (3,3), activation='relu'),\n",
        "    tf.keras.layers.MaxPooling2D(2,2),\n",
        "    tf.keras.layers.Flatten(),\n",
        "    tf.keras.layers.Dense(64, activation='relu'),\n",
        "    tf.keras.layers.Dense(5, activation='softmax')\n",
        "])"
      ],
      "execution_count": null,
      "outputs": []
    },
    {
      "cell_type": "code",
      "metadata": {
        "colab": {
          "base_uri": "https://localhost:8080/"
        },
        "id": "sgB1dDJ1KypF",
        "outputId": "e5b59f0b-efa6-4ccb-9b12-f9dd1b915fa1"
      },
      "source": [
        "model.summary()"
      ],
      "execution_count": null,
      "outputs": [
        {
          "output_type": "stream",
          "name": "stdout",
          "text": [
            "Model: \"sequential_2\"\n",
            "_________________________________________________________________\n",
            " Layer (type)                Output Shape              Param #   \n",
            "=================================================================\n",
            " conv2d_8 (Conv2D)           (None, 148, 148, 16)      448       \n",
            "                                                                 \n",
            " max_pooling2d_8 (MaxPooling  (None, 74, 74, 16)       0         \n",
            " 2D)                                                             \n",
            "                                                                 \n",
            " conv2d_9 (Conv2D)           (None, 72, 72, 32)        4640      \n",
            "                                                                 \n",
            " max_pooling2d_9 (MaxPooling  (None, 36, 36, 32)       0         \n",
            " 2D)                                                             \n",
            "                                                                 \n",
            " conv2d_10 (Conv2D)          (None, 34, 34, 64)        18496     \n",
            "                                                                 \n",
            " max_pooling2d_10 (MaxPoolin  (None, 17, 17, 64)       0         \n",
            " g2D)                                                            \n",
            "                                                                 \n",
            " conv2d_11 (Conv2D)          (None, 15, 15, 128)       73856     \n",
            "                                                                 \n",
            " max_pooling2d_11 (MaxPoolin  (None, 7, 7, 128)        0         \n",
            " g2D)                                                            \n",
            "                                                                 \n",
            " flatten_2 (Flatten)         (None, 6272)              0         \n",
            "                                                                 \n",
            " dense_4 (Dense)             (None, 64)                401472    \n",
            "                                                                 \n",
            " dense_5 (Dense)             (None, 5)                 325       \n",
            "                                                                 \n",
            "=================================================================\n",
            "Total params: 499,237\n",
            "Trainable params: 499,237\n",
            "Non-trainable params: 0\n",
            "_________________________________________________________________\n"
          ]
        }
      ]
    },
    {
      "cell_type": "code",
      "metadata": {
        "id": "mbvLD0cVHXJ6",
        "colab": {
          "base_uri": "https://localhost:8080/"
        },
        "outputId": "ed6e9b8f-7b10-44bc-99da-d5d99baa29b9"
      },
      "source": [
        "model.compile(loss='categorical_crossentropy',\n",
        "              optimizer=tf.optimizers.Adam(lr=0.001),\n",
        "              metrics=['accuracy'])"
      ],
      "execution_count": null,
      "outputs": [
        {
          "output_type": "stream",
          "name": "stderr",
          "text": [
            "/usr/local/lib/python3.8/dist-packages/keras/optimizers/optimizer_v2/adam.py:110: UserWarning: The `lr` argument is deprecated, use `learning_rate` instead.\n",
            "  super(Adam, self).__init__(name, **kwargs)\n"
          ]
        }
      ]
    },
    {
      "cell_type": "code",
      "source": [
        "# implementasi checkpoint dan early stopping untuk mendapat model terbaik\n",
        "model_checkpoint = ModelCheckpoint('submission.h5', \n",
        "\t\t\t\t\t\tmonitor='accuracy', verbose=1, \n",
        "\t\t\t\t\t\tsave_best_only=True, mode='max')\n",
        "early_stopping = EarlyStopping(monitor='accuracy', patience=20, verbose=1)"
      ],
      "metadata": {
        "id": "LqZsGnzI0KiR"
      },
      "execution_count": null,
      "outputs": []
    },
    {
      "cell_type": "markdown",
      "source": [
        "Compile model"
      ],
      "metadata": {
        "id": "wN36uV_W1wLF"
      }
    },
    {
      "cell_type": "code",
      "metadata": {
        "id": "VVmUsHpzHX3w",
        "colab": {
          "base_uri": "https://localhost:8080/"
        },
        "outputId": "556e8639-cf58-4269-dae8-f64224d523e7"
      },
      "source": [
        "result = model.fit(\n",
        "      train_generator,\n",
        "      steps_per_epoch=50,  # berapa batch yang akan dieksekusi pada setiap epoch\n",
        "      epochs=100,\n",
        "      callbacks=[early_stopping, model_checkpoint],\n",
        "      validation_data=validation_generator, # menampilkan akurasi pengujian data validasi\n",
        "      validation_steps=5,  # berapa batch yang akan dieksekusi pada setiap epoch\n",
        "      verbose=1)"
      ],
      "execution_count": 33,
      "outputs": [
        {
          "output_type": "stream",
          "name": "stdout",
          "text": [
            "Epoch 1/100\n",
            "50/50 [==============================] - ETA: 0s - loss: 1.3946 - accuracy: 0.3627\n",
            "Epoch 1: accuracy improved from -inf to 0.36265, saving model to submission.h5\n",
            "50/50 [==============================] - 13s 237ms/step - loss: 1.3946 - accuracy: 0.3627 - val_loss: 1.2480 - val_accuracy: 0.4563\n",
            "Epoch 2/100\n",
            "49/50 [============================>.] - ETA: 0s - loss: 1.1943 - accuracy: 0.4847\n",
            "Epoch 2: accuracy improved from 0.36265 to 0.48502, saving model to submission.h5\n",
            "50/50 [==============================] - 12s 233ms/step - loss: 1.1940 - accuracy: 0.4850 - val_loss: 1.2053 - val_accuracy: 0.5125\n",
            "Epoch 3/100\n",
            "50/50 [==============================] - ETA: 0s - loss: 1.1220 - accuracy: 0.5512\n",
            "Epoch 3: accuracy improved from 0.48502 to 0.55125, saving model to submission.h5\n",
            "50/50 [==============================] - 13s 267ms/step - loss: 1.1220 - accuracy: 0.5512 - val_loss: 1.0589 - val_accuracy: 0.6250\n",
            "Epoch 4/100\n",
            "50/50 [==============================] - ETA: 0s - loss: 1.1144 - accuracy: 0.5558\n",
            "Epoch 4: accuracy improved from 0.55125 to 0.55577, saving model to submission.h5\n",
            "50/50 [==============================] - 12s 232ms/step - loss: 1.1144 - accuracy: 0.5558 - val_loss: 1.0850 - val_accuracy: 0.5688\n",
            "Epoch 5/100\n",
            "50/50 [==============================] - ETA: 0s - loss: 1.0409 - accuracy: 0.5832\n",
            "Epoch 5: accuracy improved from 0.55577 to 0.58317, saving model to submission.h5\n",
            "50/50 [==============================] - 14s 285ms/step - loss: 1.0409 - accuracy: 0.5832 - val_loss: 1.1459 - val_accuracy: 0.5375\n",
            "Epoch 6/100\n",
            "50/50 [==============================] - ETA: 0s - loss: 0.9774 - accuracy: 0.6162\n",
            "Epoch 6: accuracy improved from 0.58317 to 0.61625, saving model to submission.h5\n",
            "50/50 [==============================] - 12s 242ms/step - loss: 0.9774 - accuracy: 0.6162 - val_loss: 1.0278 - val_accuracy: 0.5813\n",
            "Epoch 7/100\n",
            "50/50 [==============================] - ETA: 0s - loss: 0.9458 - accuracy: 0.6319\n",
            "Epoch 7: accuracy improved from 0.61625 to 0.63187, saving model to submission.h5\n",
            "50/50 [==============================] - 12s 242ms/step - loss: 0.9458 - accuracy: 0.6319 - val_loss: 1.0136 - val_accuracy: 0.6187\n",
            "Epoch 8/100\n",
            "50/50 [==============================] - ETA: 0s - loss: 0.8649 - accuracy: 0.6556\n",
            "Epoch 8: accuracy improved from 0.63187 to 0.65562, saving model to submission.h5\n",
            "50/50 [==============================] - 12s 241ms/step - loss: 0.8649 - accuracy: 0.6556 - val_loss: 1.0554 - val_accuracy: 0.6313\n",
            "Epoch 9/100\n",
            "50/50 [==============================] - ETA: 0s - loss: 0.8469 - accuracy: 0.6851\n",
            "Epoch 9: accuracy improved from 0.65562 to 0.68515, saving model to submission.h5\n",
            "50/50 [==============================] - 12s 237ms/step - loss: 0.8469 - accuracy: 0.6851 - val_loss: 0.8959 - val_accuracy: 0.6625\n",
            "Epoch 10/100\n",
            "50/50 [==============================] - ETA: 0s - loss: 0.8857 - accuracy: 0.6631\n",
            "Epoch 10: accuracy did not improve from 0.68515\n",
            "50/50 [==============================] - 12s 234ms/step - loss: 0.8857 - accuracy: 0.6631 - val_loss: 0.8888 - val_accuracy: 0.6250\n",
            "Epoch 11/100\n",
            "50/50 [==============================] - ETA: 0s - loss: 0.8210 - accuracy: 0.6844\n",
            "Epoch 11: accuracy did not improve from 0.68515\n",
            "50/50 [==============================] - 12s 237ms/step - loss: 0.8210 - accuracy: 0.6844 - val_loss: 0.8314 - val_accuracy: 0.7000\n",
            "Epoch 12/100\n",
            "50/50 [==============================] - ETA: 0s - loss: 0.8068 - accuracy: 0.6906\n",
            "Epoch 12: accuracy improved from 0.68515 to 0.69063, saving model to submission.h5\n",
            "50/50 [==============================] - 12s 236ms/step - loss: 0.8068 - accuracy: 0.6906 - val_loss: 0.8327 - val_accuracy: 0.7250\n",
            "Epoch 13/100\n",
            "50/50 [==============================] - ETA: 0s - loss: 0.7602 - accuracy: 0.7144\n",
            "Epoch 13: accuracy improved from 0.69063 to 0.71438, saving model to submission.h5\n",
            "50/50 [==============================] - 12s 236ms/step - loss: 0.7602 - accuracy: 0.7144 - val_loss: 0.8713 - val_accuracy: 0.6500\n",
            "Epoch 14/100\n",
            "50/50 [==============================] - ETA: 0s - loss: 0.7730 - accuracy: 0.7006\n",
            "Epoch 14: accuracy did not improve from 0.71438\n",
            "50/50 [==============================] - 12s 236ms/step - loss: 0.7730 - accuracy: 0.7006 - val_loss: 0.7521 - val_accuracy: 0.7500\n",
            "Epoch 15/100\n",
            "50/50 [==============================] - ETA: 0s - loss: 0.7763 - accuracy: 0.6956\n",
            "Epoch 15: accuracy did not improve from 0.71438\n",
            "50/50 [==============================] - 12s 241ms/step - loss: 0.7763 - accuracy: 0.6956 - val_loss: 0.7837 - val_accuracy: 0.6687\n",
            "Epoch 16/100\n",
            "50/50 [==============================] - ETA: 0s - loss: 0.7447 - accuracy: 0.7181\n",
            "Epoch 16: accuracy improved from 0.71438 to 0.71812, saving model to submission.h5\n",
            "50/50 [==============================] - 12s 242ms/step - loss: 0.7447 - accuracy: 0.7181 - val_loss: 0.8269 - val_accuracy: 0.6313\n",
            "Epoch 17/100\n",
            "50/50 [==============================] - ETA: 0s - loss: 0.7114 - accuracy: 0.7387\n",
            "Epoch 17: accuracy improved from 0.71812 to 0.73875, saving model to submission.h5\n",
            "50/50 [==============================] - 12s 240ms/step - loss: 0.7114 - accuracy: 0.7387 - val_loss: 0.8988 - val_accuracy: 0.6625\n",
            "Epoch 18/100\n",
            "50/50 [==============================] - ETA: 0s - loss: 0.7106 - accuracy: 0.7196\n",
            "Epoch 18: accuracy did not improve from 0.73875\n",
            "50/50 [==============================] - 12s 233ms/step - loss: 0.7106 - accuracy: 0.7196 - val_loss: 0.7611 - val_accuracy: 0.6938\n",
            "Epoch 19/100\n",
            "50/50 [==============================] - ETA: 0s - loss: 0.6854 - accuracy: 0.7550\n",
            "Epoch 19: accuracy improved from 0.73875 to 0.75500, saving model to submission.h5\n",
            "50/50 [==============================] - 12s 236ms/step - loss: 0.6854 - accuracy: 0.7550 - val_loss: 0.7992 - val_accuracy: 0.6625\n",
            "Epoch 20/100\n",
            "50/50 [==============================] - ETA: 0s - loss: 0.6749 - accuracy: 0.7475\n",
            "Epoch 20: accuracy did not improve from 0.75500\n",
            "50/50 [==============================] - 12s 236ms/step - loss: 0.6749 - accuracy: 0.7475 - val_loss: 0.9848 - val_accuracy: 0.6375\n",
            "Epoch 21/100\n",
            "50/50 [==============================] - ETA: 0s - loss: 0.6845 - accuracy: 0.7506\n",
            "Epoch 21: accuracy did not improve from 0.75500\n",
            "50/50 [==============================] - 12s 237ms/step - loss: 0.6845 - accuracy: 0.7506 - val_loss: 0.7009 - val_accuracy: 0.7500\n",
            "Epoch 22/100\n",
            "50/50 [==============================] - ETA: 0s - loss: 0.6654 - accuracy: 0.7569\n",
            "Epoch 22: accuracy improved from 0.75500 to 0.75687, saving model to submission.h5\n",
            "50/50 [==============================] - 12s 241ms/step - loss: 0.6654 - accuracy: 0.7569 - val_loss: 0.8454 - val_accuracy: 0.7125\n",
            "Epoch 23/100\n",
            "50/50 [==============================] - ETA: 0s - loss: 0.6728 - accuracy: 0.7412\n",
            "Epoch 23: accuracy did not improve from 0.75687\n",
            "50/50 [==============================] - 14s 271ms/step - loss: 0.6728 - accuracy: 0.7412 - val_loss: 0.8458 - val_accuracy: 0.6687\n",
            "Epoch 24/100\n",
            "50/50 [==============================] - ETA: 0s - loss: 0.6237 - accuracy: 0.7550\n",
            "Epoch 24: accuracy did not improve from 0.75687\n",
            "50/50 [==============================] - 12s 239ms/step - loss: 0.6237 - accuracy: 0.7550 - val_loss: 0.7273 - val_accuracy: 0.7437\n",
            "Epoch 25/100\n",
            "50/50 [==============================] - ETA: 0s - loss: 0.5955 - accuracy: 0.7688\n",
            "Epoch 25: accuracy improved from 0.75687 to 0.76875, saving model to submission.h5\n",
            "50/50 [==============================] - 12s 245ms/step - loss: 0.5955 - accuracy: 0.7688 - val_loss: 1.0164 - val_accuracy: 0.6375\n",
            "Epoch 26/100\n",
            "50/50 [==============================] - ETA: 0s - loss: 0.6349 - accuracy: 0.7584\n",
            "Epoch 26: accuracy did not improve from 0.76875\n",
            "50/50 [==============================] - 12s 233ms/step - loss: 0.6349 - accuracy: 0.7584 - val_loss: 0.8306 - val_accuracy: 0.7125\n",
            "Epoch 27/100\n",
            "50/50 [==============================] - ETA: 0s - loss: 0.5804 - accuracy: 0.7825\n",
            "Epoch 27: accuracy improved from 0.76875 to 0.78250, saving model to submission.h5\n",
            "50/50 [==============================] - 12s 238ms/step - loss: 0.5804 - accuracy: 0.7825 - val_loss: 0.7735 - val_accuracy: 0.7250\n",
            "Epoch 28/100\n",
            "50/50 [==============================] - ETA: 0s - loss: 0.5803 - accuracy: 0.7878\n",
            "Epoch 28: accuracy improved from 0.78250 to 0.78776, saving model to submission.h5\n",
            "50/50 [==============================] - 12s 233ms/step - loss: 0.5803 - accuracy: 0.7878 - val_loss: 0.7850 - val_accuracy: 0.7188\n",
            "Epoch 29/100\n",
            "50/50 [==============================] - ETA: 0s - loss: 0.5431 - accuracy: 0.7825\n",
            "Epoch 29: accuracy did not improve from 0.78776\n",
            "50/50 [==============================] - 12s 234ms/step - loss: 0.5431 - accuracy: 0.7825 - val_loss: 0.6993 - val_accuracy: 0.7500\n",
            "Epoch 30/100\n",
            "50/50 [==============================] - ETA: 0s - loss: 0.5268 - accuracy: 0.7994\n",
            "Epoch 30: accuracy improved from 0.78776 to 0.79937, saving model to submission.h5\n",
            "50/50 [==============================] - 12s 236ms/step - loss: 0.5268 - accuracy: 0.7994 - val_loss: 0.6937 - val_accuracy: 0.7188\n",
            "Epoch 31/100\n",
            "50/50 [==============================] - ETA: 0s - loss: 0.5197 - accuracy: 0.7975\n",
            "Epoch 31: accuracy did not improve from 0.79937\n",
            "50/50 [==============================] - 12s 233ms/step - loss: 0.5197 - accuracy: 0.7975 - val_loss: 0.7583 - val_accuracy: 0.7563\n",
            "Epoch 32/100\n",
            "50/50 [==============================] - ETA: 0s - loss: 0.5136 - accuracy: 0.8133\n",
            "Epoch 32: accuracy improved from 0.79937 to 0.81326, saving model to submission.h5\n",
            "50/50 [==============================] - 12s 232ms/step - loss: 0.5136 - accuracy: 0.8133 - val_loss: 0.9782 - val_accuracy: 0.7000\n",
            "Epoch 33/100\n",
            "50/50 [==============================] - ETA: 0s - loss: 0.4963 - accuracy: 0.8094\n",
            "Epoch 33: accuracy did not improve from 0.81326\n",
            "50/50 [==============================] - 12s 239ms/step - loss: 0.4963 - accuracy: 0.8094 - val_loss: 0.8011 - val_accuracy: 0.7375\n",
            "Epoch 34/100\n",
            "50/50 [==============================] - ETA: 0s - loss: 0.4985 - accuracy: 0.8082\n",
            "Epoch 34: accuracy did not improve from 0.81326\n",
            "50/50 [==============================] - 12s 235ms/step - loss: 0.4985 - accuracy: 0.8082 - val_loss: 0.9163 - val_accuracy: 0.6938\n",
            "Epoch 35/100\n",
            "50/50 [==============================] - ETA: 0s - loss: 0.4778 - accuracy: 0.8275\n",
            "Epoch 35: accuracy improved from 0.81326 to 0.82750, saving model to submission.h5\n",
            "50/50 [==============================] - 12s 234ms/step - loss: 0.4778 - accuracy: 0.8275 - val_loss: 0.9261 - val_accuracy: 0.7312\n",
            "Epoch 36/100\n",
            "50/50 [==============================] - ETA: 0s - loss: 0.4921 - accuracy: 0.8133\n",
            "Epoch 36: accuracy did not improve from 0.82750\n",
            "50/50 [==============================] - 11s 229ms/step - loss: 0.4921 - accuracy: 0.8133 - val_loss: 0.5838 - val_accuracy: 0.8062\n",
            "Epoch 37/100\n",
            "50/50 [==============================] - ETA: 0s - loss: 0.4672 - accuracy: 0.8269\n",
            "Epoch 37: accuracy did not improve from 0.82750\n",
            "50/50 [==============================] - 12s 236ms/step - loss: 0.4672 - accuracy: 0.8269 - val_loss: 0.8433 - val_accuracy: 0.7312\n",
            "Epoch 38/100\n",
            "50/50 [==============================] - ETA: 0s - loss: 0.4455 - accuracy: 0.8225\n",
            "Epoch 38: accuracy did not improve from 0.82750\n",
            "50/50 [==============================] - 12s 235ms/step - loss: 0.4455 - accuracy: 0.8225 - val_loss: 0.7752 - val_accuracy: 0.7688\n",
            "Epoch 39/100\n",
            "50/50 [==============================] - ETA: 0s - loss: 0.4217 - accuracy: 0.8338\n",
            "Epoch 39: accuracy improved from 0.82750 to 0.83375, saving model to submission.h5\n",
            "50/50 [==============================] - 12s 237ms/step - loss: 0.4217 - accuracy: 0.8338 - val_loss: 0.8751 - val_accuracy: 0.7063\n",
            "Epoch 40/100\n",
            "50/50 [==============================] - ETA: 0s - loss: 0.4240 - accuracy: 0.8413\n",
            "Epoch 40: accuracy improved from 0.83375 to 0.84125, saving model to submission.h5\n",
            "50/50 [==============================] - 12s 237ms/step - loss: 0.4240 - accuracy: 0.8413 - val_loss: 0.8489 - val_accuracy: 0.7312\n",
            "Epoch 41/100\n",
            "50/50 [==============================] - ETA: 0s - loss: 0.4084 - accuracy: 0.8438\n",
            "Epoch 41: accuracy improved from 0.84125 to 0.84375, saving model to submission.h5\n",
            "50/50 [==============================] - 12s 239ms/step - loss: 0.4084 - accuracy: 0.8438 - val_loss: 0.6254 - val_accuracy: 0.7563\n",
            "Epoch 42/100\n",
            "50/50 [==============================] - ETA: 0s - loss: 0.3621 - accuracy: 0.8612\n",
            "Epoch 42: accuracy improved from 0.84375 to 0.86125, saving model to submission.h5\n",
            "50/50 [==============================] - 12s 237ms/step - loss: 0.3621 - accuracy: 0.8612 - val_loss: 0.8125 - val_accuracy: 0.7563\n",
            "Epoch 43/100\n",
            "50/50 [==============================] - ETA: 0s - loss: 0.3978 - accuracy: 0.8521\n",
            "Epoch 43: accuracy did not improve from 0.86125\n",
            "50/50 [==============================] - 12s 236ms/step - loss: 0.3978 - accuracy: 0.8521 - val_loss: 0.7693 - val_accuracy: 0.7312\n",
            "Epoch 44/100\n",
            "50/50 [==============================] - ETA: 0s - loss: 0.3652 - accuracy: 0.8713\n",
            "Epoch 44: accuracy improved from 0.86125 to 0.87126, saving model to submission.h5\n",
            "50/50 [==============================] - 12s 237ms/step - loss: 0.3652 - accuracy: 0.8713 - val_loss: 1.0935 - val_accuracy: 0.6562\n",
            "Epoch 45/100\n",
            "50/50 [==============================] - ETA: 0s - loss: 0.3758 - accuracy: 0.8556\n",
            "Epoch 45: accuracy did not improve from 0.87126\n",
            "50/50 [==============================] - 12s 239ms/step - loss: 0.3758 - accuracy: 0.8556 - val_loss: 1.0155 - val_accuracy: 0.7312\n",
            "Epoch 46/100\n",
            "50/50 [==============================] - ETA: 0s - loss: 0.3973 - accuracy: 0.8502\n",
            "Epoch 46: accuracy did not improve from 0.87126\n",
            "50/50 [==============================] - 12s 231ms/step - loss: 0.3973 - accuracy: 0.8502 - val_loss: 1.1509 - val_accuracy: 0.6438\n",
            "Epoch 47/100\n",
            "50/50 [==============================] - ETA: 0s - loss: 0.4462 - accuracy: 0.8311\n",
            "Epoch 47: accuracy did not improve from 0.87126\n",
            "50/50 [==============================] - 12s 234ms/step - loss: 0.4462 - accuracy: 0.8311 - val_loss: 0.8285 - val_accuracy: 0.7188\n",
            "Epoch 48/100\n",
            "50/50 [==============================] - ETA: 0s - loss: 0.3817 - accuracy: 0.8525\n",
            "Epoch 48: accuracy did not improve from 0.87126\n",
            "50/50 [==============================] - 12s 235ms/step - loss: 0.3817 - accuracy: 0.8525 - val_loss: 0.8496 - val_accuracy: 0.7437\n",
            "Epoch 49/100\n",
            "50/50 [==============================] - ETA: 0s - loss: 0.3077 - accuracy: 0.8850\n",
            "Epoch 49: accuracy improved from 0.87126 to 0.88500, saving model to submission.h5\n",
            "50/50 [==============================] - 12s 239ms/step - loss: 0.3077 - accuracy: 0.8850 - val_loss: 0.6984 - val_accuracy: 0.8125\n",
            "Epoch 50/100\n",
            "50/50 [==============================] - ETA: 0s - loss: 0.3360 - accuracy: 0.8719\n",
            "Epoch 50: accuracy did not improve from 0.88500\n",
            "50/50 [==============================] - 12s 237ms/step - loss: 0.3360 - accuracy: 0.8719 - val_loss: 0.7442 - val_accuracy: 0.7375\n",
            "Epoch 51/100\n",
            "50/50 [==============================] - ETA: 0s - loss: 0.3420 - accuracy: 0.8757\n",
            "Epoch 51: accuracy did not improve from 0.88500\n",
            "50/50 [==============================] - 12s 230ms/step - loss: 0.3420 - accuracy: 0.8757 - val_loss: 0.8800 - val_accuracy: 0.7188\n",
            "Epoch 52/100\n",
            "50/50 [==============================] - ETA: 0s - loss: 0.3612 - accuracy: 0.8687\n",
            "Epoch 52: accuracy did not improve from 0.88500\n",
            "50/50 [==============================] - 12s 238ms/step - loss: 0.3612 - accuracy: 0.8687 - val_loss: 0.9313 - val_accuracy: 0.7688\n",
            "Epoch 53/100\n",
            "50/50 [==============================] - ETA: 0s - loss: 0.3530 - accuracy: 0.8681\n",
            "Epoch 53: accuracy did not improve from 0.88500\n",
            "50/50 [==============================] - 12s 232ms/step - loss: 0.3530 - accuracy: 0.8681 - val_loss: 1.0025 - val_accuracy: 0.6875\n",
            "Epoch 54/100\n",
            "50/50 [==============================] - ETA: 0s - loss: 0.3365 - accuracy: 0.8802\n",
            "Epoch 54: accuracy did not improve from 0.88500\n",
            "50/50 [==============================] - 12s 231ms/step - loss: 0.3365 - accuracy: 0.8802 - val_loss: 0.7877 - val_accuracy: 0.7437\n",
            "Epoch 55/100\n",
            "50/50 [==============================] - ETA: 0s - loss: 0.2845 - accuracy: 0.8850\n",
            "Epoch 55: accuracy did not improve from 0.88500\n",
            "50/50 [==============================] - 12s 235ms/step - loss: 0.2845 - accuracy: 0.8850 - val_loss: 0.9888 - val_accuracy: 0.7375\n",
            "Epoch 56/100\n",
            "50/50 [==============================] - ETA: 0s - loss: 0.2933 - accuracy: 0.8878\n",
            "Epoch 56: accuracy improved from 0.88500 to 0.88783, saving model to submission.h5\n",
            "50/50 [==============================] - 12s 231ms/step - loss: 0.2933 - accuracy: 0.8878 - val_loss: 0.9854 - val_accuracy: 0.7000\n",
            "Epoch 57/100\n",
            "50/50 [==============================] - ETA: 0s - loss: 0.3049 - accuracy: 0.8919\n",
            "Epoch 57: accuracy improved from 0.88783 to 0.89188, saving model to submission.h5\n",
            "50/50 [==============================] - 12s 235ms/step - loss: 0.3049 - accuracy: 0.8919 - val_loss: 0.9315 - val_accuracy: 0.7000\n",
            "Epoch 58/100\n",
            "50/50 [==============================] - ETA: 0s - loss: 0.2037 - accuracy: 0.9219\n",
            "Epoch 58: accuracy improved from 0.89188 to 0.92188, saving model to submission.h5\n",
            "50/50 [==============================] - 12s 237ms/step - loss: 0.2037 - accuracy: 0.9219 - val_loss: 0.9637 - val_accuracy: 0.7000\n",
            "Epoch 59/100\n",
            "50/50 [==============================] - ETA: 0s - loss: 0.3802 - accuracy: 0.8496\n",
            "Epoch 59: accuracy did not improve from 0.92188\n",
            "50/50 [==============================] - 12s 232ms/step - loss: 0.3802 - accuracy: 0.8496 - val_loss: 1.1946 - val_accuracy: 0.6625\n",
            "Epoch 60/100\n",
            "50/50 [==============================] - ETA: 0s - loss: 0.3399 - accuracy: 0.8783\n",
            "Epoch 60: accuracy did not improve from 0.92188\n",
            "50/50 [==============================] - 12s 233ms/step - loss: 0.3399 - accuracy: 0.8783 - val_loss: 1.0487 - val_accuracy: 0.6562\n",
            "Epoch 61/100\n",
            "50/50 [==============================] - ETA: 0s - loss: 0.2936 - accuracy: 0.8788\n",
            "Epoch 61: accuracy did not improve from 0.92188\n",
            "50/50 [==============================] - 12s 234ms/step - loss: 0.2936 - accuracy: 0.8788 - val_loss: 1.0195 - val_accuracy: 0.7000\n",
            "Epoch 62/100\n",
            "50/50 [==============================] - ETA: 0s - loss: 0.2770 - accuracy: 0.8994\n",
            "Epoch 62: accuracy did not improve from 0.92188\n",
            "50/50 [==============================] - 12s 238ms/step - loss: 0.2770 - accuracy: 0.8994 - val_loss: 0.9898 - val_accuracy: 0.6938\n",
            "Epoch 63/100\n",
            "50/50 [==============================] - ETA: 0s - loss: 0.2129 - accuracy: 0.9181\n",
            "Epoch 63: accuracy did not improve from 0.92188\n",
            "50/50 [==============================] - 12s 237ms/step - loss: 0.2129 - accuracy: 0.9181 - val_loss: 1.3088 - val_accuracy: 0.7000\n",
            "Epoch 64/100\n",
            "50/50 [==============================] - ETA: 0s - loss: 0.1995 - accuracy: 0.9267\n",
            "Epoch 64: accuracy improved from 0.92188 to 0.92670, saving model to submission.h5\n",
            "50/50 [==============================] - 12s 233ms/step - loss: 0.1995 - accuracy: 0.9267 - val_loss: 1.1084 - val_accuracy: 0.7188\n",
            "Epoch 65/100\n",
            "50/50 [==============================] - ETA: 0s - loss: 0.2657 - accuracy: 0.9013\n",
            "Epoch 65: accuracy did not improve from 0.92670\n",
            "50/50 [==============================] - 12s 236ms/step - loss: 0.2657 - accuracy: 0.9013 - val_loss: 0.9633 - val_accuracy: 0.7250\n",
            "Epoch 66/100\n",
            "50/50 [==============================] - ETA: 0s - loss: 0.1887 - accuracy: 0.9275\n",
            "Epoch 66: accuracy improved from 0.92670 to 0.92750, saving model to submission.h5\n",
            "50/50 [==============================] - 12s 239ms/step - loss: 0.1887 - accuracy: 0.9275 - val_loss: 1.0513 - val_accuracy: 0.7188\n",
            "Epoch 67/100\n",
            "50/50 [==============================] - ETA: 0s - loss: 0.2034 - accuracy: 0.9225\n",
            "Epoch 67: accuracy did not improve from 0.92750\n",
            "50/50 [==============================] - 12s 235ms/step - loss: 0.2034 - accuracy: 0.9225 - val_loss: 1.2465 - val_accuracy: 0.7000\n",
            "Epoch 68/100\n",
            "50/50 [==============================] - ETA: 0s - loss: 0.2207 - accuracy: 0.9181\n",
            "Epoch 68: accuracy did not improve from 0.92750\n",
            "50/50 [==============================] - 12s 234ms/step - loss: 0.2207 - accuracy: 0.9181 - val_loss: 1.0990 - val_accuracy: 0.7750\n",
            "Epoch 69/100\n",
            "50/50 [==============================] - ETA: 0s - loss: 0.2040 - accuracy: 0.9369\n",
            "Epoch 69: accuracy improved from 0.92750 to 0.93687, saving model to submission.h5\n",
            "50/50 [==============================] - 12s 233ms/step - loss: 0.2040 - accuracy: 0.9369 - val_loss: 1.0741 - val_accuracy: 0.7125\n",
            "Epoch 70/100\n",
            "50/50 [==============================] - ETA: 0s - loss: 0.1449 - accuracy: 0.9439\n",
            "Epoch 70: accuracy improved from 0.93687 to 0.94391, saving model to submission.h5\n",
            "50/50 [==============================] - 12s 232ms/step - loss: 0.1449 - accuracy: 0.9439 - val_loss: 1.4918 - val_accuracy: 0.6562\n",
            "Epoch 71/100\n",
            "50/50 [==============================] - ETA: 0s - loss: 0.1796 - accuracy: 0.9413\n",
            "Epoch 71: accuracy did not improve from 0.94391\n",
            "50/50 [==============================] - 12s 233ms/step - loss: 0.1796 - accuracy: 0.9413 - val_loss: 1.3050 - val_accuracy: 0.6500\n",
            "Epoch 72/100\n",
            "50/50 [==============================] - ETA: 0s - loss: 0.1768 - accuracy: 0.9344\n",
            "Epoch 72: accuracy did not improve from 0.94391\n",
            "50/50 [==============================] - 12s 235ms/step - loss: 0.1768 - accuracy: 0.9344 - val_loss: 1.1081 - val_accuracy: 0.7000\n",
            "Epoch 73/100\n",
            "50/50 [==============================] - ETA: 0s - loss: 0.1463 - accuracy: 0.9465\n",
            "Epoch 73: accuracy improved from 0.94391 to 0.94646, saving model to submission.h5\n",
            "50/50 [==============================] - 12s 231ms/step - loss: 0.1463 - accuracy: 0.9465 - val_loss: 0.9918 - val_accuracy: 0.7437\n",
            "Epoch 74/100\n",
            "50/50 [==============================] - ETA: 0s - loss: 0.1463 - accuracy: 0.9438\n",
            "Epoch 74: accuracy did not improve from 0.94646\n",
            "50/50 [==============================] - 12s 235ms/step - loss: 0.1463 - accuracy: 0.9438 - val_loss: 1.0450 - val_accuracy: 0.7375\n",
            "Epoch 75/100\n",
            "50/50 [==============================] - ETA: 0s - loss: 0.1389 - accuracy: 0.9519\n",
            "Epoch 75: accuracy improved from 0.94646 to 0.95187, saving model to submission.h5\n",
            "50/50 [==============================] - 12s 238ms/step - loss: 0.1389 - accuracy: 0.9519 - val_loss: 1.0583 - val_accuracy: 0.7375\n",
            "Epoch 76/100\n",
            "50/50 [==============================] - ETA: 0s - loss: 0.1452 - accuracy: 0.9547\n",
            "Epoch 76: accuracy improved from 0.95187 to 0.95475, saving model to submission.h5\n",
            "50/50 [==============================] - 12s 231ms/step - loss: 0.1452 - accuracy: 0.9547 - val_loss: 1.3998 - val_accuracy: 0.7125\n",
            "Epoch 77/100\n",
            "50/50 [==============================] - ETA: 0s - loss: 0.1702 - accuracy: 0.9419\n",
            "Epoch 77: accuracy did not improve from 0.95475\n",
            "50/50 [==============================] - 12s 234ms/step - loss: 0.1702 - accuracy: 0.9419 - val_loss: 1.4527 - val_accuracy: 0.7000\n",
            "Epoch 78/100\n",
            "50/50 [==============================] - ETA: 0s - loss: 0.1454 - accuracy: 0.9438\n",
            "Epoch 78: accuracy did not improve from 0.95475\n",
            "50/50 [==============================] - 12s 233ms/step - loss: 0.1454 - accuracy: 0.9438 - val_loss: 1.2877 - val_accuracy: 0.7375\n",
            "Epoch 79/100\n",
            "50/50 [==============================] - ETA: 0s - loss: 0.1546 - accuracy: 0.9475\n",
            "Epoch 79: accuracy did not improve from 0.95475\n",
            "50/50 [==============================] - 12s 238ms/step - loss: 0.1546 - accuracy: 0.9475 - val_loss: 1.5937 - val_accuracy: 0.7063\n",
            "Epoch 80/100\n",
            "50/50 [==============================] - ETA: 0s - loss: 0.1757 - accuracy: 0.9382\n",
            "Epoch 80: accuracy did not improve from 0.95475\n",
            "50/50 [==============================] - 12s 234ms/step - loss: 0.1757 - accuracy: 0.9382 - val_loss: 1.1620 - val_accuracy: 0.7000\n",
            "Epoch 81/100\n",
            "50/50 [==============================] - ETA: 0s - loss: 0.1777 - accuracy: 0.9382\n",
            "Epoch 81: accuracy did not improve from 0.95475\n",
            "50/50 [==============================] - 11s 230ms/step - loss: 0.1777 - accuracy: 0.9382 - val_loss: 1.1998 - val_accuracy: 0.7063\n",
            "Epoch 82/100\n",
            "50/50 [==============================] - ETA: 0s - loss: 0.2053 - accuracy: 0.9261\n",
            "Epoch 82: accuracy did not improve from 0.95475\n",
            "50/50 [==============================] - 12s 231ms/step - loss: 0.2053 - accuracy: 0.9261 - val_loss: 1.0615 - val_accuracy: 0.7563\n",
            "Epoch 83/100\n",
            "50/50 [==============================] - ETA: 0s - loss: 0.1712 - accuracy: 0.9375\n",
            "Epoch 83: accuracy did not improve from 0.95475\n",
            "50/50 [==============================] - 11s 229ms/step - loss: 0.1712 - accuracy: 0.9375 - val_loss: 1.6308 - val_accuracy: 0.6500\n",
            "Epoch 84/100\n",
            "50/50 [==============================] - ETA: 0s - loss: 0.1157 - accuracy: 0.9638\n",
            "Epoch 84: accuracy improved from 0.95475 to 0.96375, saving model to submission.h5\n",
            "50/50 [==============================] - 12s 237ms/step - loss: 0.1157 - accuracy: 0.9638 - val_loss: 1.6480 - val_accuracy: 0.7437\n",
            "Epoch 85/100\n",
            "50/50 [==============================] - ETA: 0s - loss: 0.1109 - accuracy: 0.9625\n",
            "Epoch 85: accuracy did not improve from 0.96375\n",
            "50/50 [==============================] - 12s 237ms/step - loss: 0.1109 - accuracy: 0.9625 - val_loss: 1.5100 - val_accuracy: 0.7000\n",
            "Epoch 86/100\n",
            "50/50 [==============================] - ETA: 0s - loss: 0.2046 - accuracy: 0.9331\n",
            "Epoch 86: accuracy did not improve from 0.96375\n",
            "50/50 [==============================] - 11s 230ms/step - loss: 0.2046 - accuracy: 0.9331 - val_loss: 2.2399 - val_accuracy: 0.6562\n",
            "Epoch 87/100\n",
            "50/50 [==============================] - ETA: 0s - loss: 0.4582 - accuracy: 0.8325\n",
            "Epoch 87: accuracy did not improve from 0.96375\n",
            "50/50 [==============================] - 12s 235ms/step - loss: 0.4582 - accuracy: 0.8325 - val_loss: 1.1659 - val_accuracy: 0.7188\n",
            "Epoch 88/100\n",
            "50/50 [==============================] - ETA: 0s - loss: 0.2040 - accuracy: 0.9242\n",
            "Epoch 88: accuracy did not improve from 0.96375\n",
            "50/50 [==============================] - 12s 232ms/step - loss: 0.2040 - accuracy: 0.9242 - val_loss: 0.9263 - val_accuracy: 0.7437\n",
            "Epoch 89/100\n",
            "50/50 [==============================] - ETA: 0s - loss: 0.1717 - accuracy: 0.9350\n",
            "Epoch 89: accuracy did not improve from 0.96375\n",
            "50/50 [==============================] - 12s 236ms/step - loss: 0.1717 - accuracy: 0.9350 - val_loss: 1.1133 - val_accuracy: 0.7563\n",
            "Epoch 90/100\n",
            "50/50 [==============================] - ETA: 0s - loss: 0.1437 - accuracy: 0.9494\n",
            "Epoch 90: accuracy did not improve from 0.96375\n",
            "50/50 [==============================] - 12s 236ms/step - loss: 0.1437 - accuracy: 0.9494 - val_loss: 1.1998 - val_accuracy: 0.6938\n",
            "Epoch 91/100\n",
            "50/50 [==============================] - ETA: 0s - loss: 0.1093 - accuracy: 0.9619\n",
            "Epoch 91: accuracy did not improve from 0.96375\n",
            "50/50 [==============================] - 12s 238ms/step - loss: 0.1093 - accuracy: 0.9619 - val_loss: 1.5249 - val_accuracy: 0.6812\n",
            "Epoch 92/100\n",
            "50/50 [==============================] - ETA: 0s - loss: 0.1358 - accuracy: 0.9450\n",
            "Epoch 92: accuracy did not improve from 0.96375\n",
            "50/50 [==============================] - 12s 240ms/step - loss: 0.1358 - accuracy: 0.9450 - val_loss: 1.4791 - val_accuracy: 0.7437\n",
            "Epoch 93/100\n",
            "50/50 [==============================] - ETA: 0s - loss: 0.1514 - accuracy: 0.9438\n",
            "Epoch 93: accuracy did not improve from 0.96375\n",
            "50/50 [==============================] - 12s 238ms/step - loss: 0.1514 - accuracy: 0.9438 - val_loss: 1.5820 - val_accuracy: 0.7063\n",
            "Epoch 94/100\n",
            "50/50 [==============================] - ETA: 0s - loss: 0.1235 - accuracy: 0.9581\n",
            "Epoch 94: accuracy did not improve from 0.96375\n",
            "50/50 [==============================] - 12s 239ms/step - loss: 0.1235 - accuracy: 0.9581 - val_loss: 1.4950 - val_accuracy: 0.7125\n",
            "Epoch 95/100\n",
            "50/50 [==============================] - ETA: 0s - loss: 0.0893 - accuracy: 0.9700\n",
            "Epoch 95: accuracy improved from 0.96375 to 0.97000, saving model to submission.h5\n",
            "50/50 [==============================] - 12s 241ms/step - loss: 0.0893 - accuracy: 0.9700 - val_loss: 1.0830 - val_accuracy: 0.7437\n",
            "Epoch 96/100\n",
            "50/50 [==============================] - ETA: 0s - loss: 0.1236 - accuracy: 0.9560\n",
            "Epoch 96: accuracy did not improve from 0.97000\n",
            "50/50 [==============================] - 12s 237ms/step - loss: 0.1236 - accuracy: 0.9560 - val_loss: 1.2168 - val_accuracy: 0.7437\n",
            "Epoch 97/100\n",
            "50/50 [==============================] - ETA: 0s - loss: 0.1489 - accuracy: 0.9450\n",
            "Epoch 97: accuracy did not improve from 0.97000\n",
            "50/50 [==============================] - 12s 238ms/step - loss: 0.1489 - accuracy: 0.9450 - val_loss: 1.1823 - val_accuracy: 0.7125\n",
            "Epoch 98/100\n",
            "50/50 [==============================] - ETA: 0s - loss: 0.1125 - accuracy: 0.9573\n",
            "Epoch 98: accuracy did not improve from 0.97000\n",
            "50/50 [==============================] - 12s 234ms/step - loss: 0.1125 - accuracy: 0.9573 - val_loss: 0.8621 - val_accuracy: 0.8062\n",
            "Epoch 99/100\n",
            "50/50 [==============================] - ETA: 0s - loss: 0.0883 - accuracy: 0.9650\n",
            "Epoch 99: accuracy did not improve from 0.97000\n",
            "50/50 [==============================] - 12s 239ms/step - loss: 0.0883 - accuracy: 0.9650 - val_loss: 1.4324 - val_accuracy: 0.7375\n",
            "Epoch 100/100\n",
            "50/50 [==============================] - ETA: 0s - loss: 0.0670 - accuracy: 0.9781\n",
            "Epoch 100: accuracy improved from 0.97000 to 0.97812, saving model to submission.h5\n",
            "50/50 [==============================] - 12s 240ms/step - loss: 0.0670 - accuracy: 0.9781 - val_loss: 1.2793 - val_accuracy: 0.7563\n"
          ]
        }
      ]
    },
    {
      "cell_type": "code",
      "metadata": {
        "id": "GQOoO8GTHbOR"
      },
      "source": [
        "# load model terbaik yang tersimpan\n",
        "cnn = load_model('/content/submission.h5')"
      ],
      "execution_count": 37,
      "outputs": []
    },
    {
      "cell_type": "markdown",
      "source": [
        "visualisasi akurasi model"
      ],
      "metadata": {
        "id": "4LUtEJEm3f0y"
      }
    },
    {
      "cell_type": "code",
      "source": [
        "plt.plot(result.history['accuracy'])\n",
        "plt.plot(result.history['val_accuracy'])\n",
        "plt.title('Model Accuracy')\n",
        "plt.ylabel('Loss')\n",
        "plt.xlabel('Epochs')\n",
        "plt.legend(['train', 'test'])\n",
        "plt.show()"
      ],
      "metadata": {
        "colab": {
          "base_uri": "https://localhost:8080/",
          "height": 295
        },
        "id": "Kqw7pm3r9IXV",
        "outputId": "f770aa2e-ca4e-47de-b4ba-2720d0ca27ed"
      },
      "execution_count": 34,
      "outputs": [
        {
          "output_type": "display_data",
          "data": {
            "text/plain": [
              "<Figure size 432x288 with 1 Axes>"
            ],
            "image/png": "[encoded data removed]"
          },
          "metadata": {
            "needs_background": "light"
          }
        }
      ]
    },
    {
      "cell_type": "markdown",
      "source": [
        "visualisasi loss model"
      ],
      "metadata": {
        "id": "zr-eEB2A3jE1"
      }
    },
    {
      "cell_type": "code",
      "source": [
        "plt.plot(result.history['loss'])\n",
        "plt.plot(result.history['val_loss'])\n",
        "plt.title('Model Loss')\n",
        "plt.ylabel('Loss')\n",
        "plt.xlabel('Epochs')\n",
        "plt.legend(['train', 'test'])\n",
        "plt.show()"
      ],
      "metadata": {
        "id": "qONQc7j15oZi",
        "colab": {
          "base_uri": "https://localhost:8080/",
          "height": 295
        },
        "outputId": "52db0c41-dd50-4510-f637-2cd346423ffc"
      },
      "execution_count": 35,
      "outputs": [
        {
          "output_type": "display_data",
          "data": {
            "text/plain": [
              "<Figure size 432x288 with 1 Axes>"
            ],
            "image/png": "[encoded data removed]"
          },
          "metadata": {
            "needs_background": "light"
          }
        }
      ]
    },
    {
      "cell_type": "markdown",
      "source": [
        "deploy ML ke TF-Lite"
      ],
      "metadata": {
        "id": "RuBh_qO63o8H"
      }
    },
    {
      "cell_type": "code",
      "source": [
        "converter = tf.lite.TFLiteConverter.from_keras_model(cnn)\n",
        "tflite_model = converter.convert()"
      ],
      "metadata": {
        "colab": {
          "base_uri": "https://localhost:8080/"
        },
        "id": "9BKUrzRWGBsR",
        "outputId": "9ca80cc2-7fa8-4b0d-f6c8-c65e28daacf8"
      },
      "execution_count": 38,
      "outputs": [
        {
          "output_type": "stream",
          "name": "stderr",
          "text": [
            "WARNING:absl:Found untraced functions such as _jit_compiled_convolution_op, _jit_compiled_convolution_op, _jit_compiled_convolution_op, _jit_compiled_convolution_op while saving (showing 4 of 4). These functions will not be directly callable after loading.\n"
          ]
        }
      ]
    },
    {
      "cell_type": "code",
      "source": [
        "with tf.io.gfile.GFile('cnn.tflite', 'wb') as f:\n",
        "  f.write(tflite_model)"
      ],
      "metadata": {
        "id": "ZyjIOkS7GXDn"
      },
      "execution_count": 39,
      "outputs": []
    }
  ]
}